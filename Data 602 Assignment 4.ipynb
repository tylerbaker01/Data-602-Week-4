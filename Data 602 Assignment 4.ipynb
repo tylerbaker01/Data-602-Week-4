{
 "cells": [
  {
   "cell_type": "markdown",
   "id": "d7f2d6e8",
   "metadata": {},
   "source": [
    "Data 602 Assignment # 4 Tyler Baker"
   ]
  },
  {
   "cell_type": "markdown",
   "id": "e9729f3f",
   "metadata": {},
   "source": [
    "Q1: Create a class called BankAccount that has four attributes: bankname, firstname,\n",
    "lastname, and balance.\n",
    "The default balance should be set to 0.\n",
    "In addition, create ...\n",
    "● A method called deposit() that allows the user to make deposits into their balance.\n",
    "● A method called withdrawal() that allows the user to withdraw from their balance.\n",
    "● Withdrawal may not exceed the available balance. Hint: consider a conditional argument\n",
    "in your withdrawal() method.\n",
    "● Use the __str__() method in order to display the bank name, owner name, and current\n",
    "balance.\n",
    "● Make a series of deposits and withdrawals to test your class."
   ]
  },
  {
   "cell_type": "code",
   "execution_count": 1,
   "id": "f20bcda7",
   "metadata": {},
   "outputs": [],
   "source": [
    "class BankAccount:\n",
    "    def __init__(self, bankname, firstname, lastname, balance):\n",
    "        self.bankname = bankname\n",
    "        self.firstname = firstname\n",
    "        self.lastname = lastname\n",
    "        self.balance = balance\n",
    "    def deposit(self, amount):\n",
    "        balance = balance + amount\n",
    "        print(balance)\n",
    "    def withdrawl(self, amount):\n",
    "        if amount > balance:\n",
    "            print(\"you can't do that!\")\n",
    "        else:\n",
    "            balance = balance - amount\n",
    "            print(balance)\n",
    "            \n",
    "    def __str__(self):\n",
    "        return '{self.bankname} {self.firstname} {self.lastname} {self.balance}'.format(self = self)"
   ]
  },
  {
   "cell_type": "code",
   "execution_count": 6,
   "id": "a41445ff",
   "metadata": {},
   "outputs": [
    {
     "ename": "NameError",
     "evalue": "name 'balance' is not defined",
     "output_type": "error",
     "traceback": [
      "\u001b[1;31m---------------------------------------------------------------------------\u001b[0m",
      "\u001b[1;31mNameError\u001b[0m                                 Traceback (most recent call last)",
      "\u001b[1;32m~\\AppData\\Local\\Temp/ipykernel_10572/2355062869.py\u001b[0m in \u001b[0;36m<module>\u001b[1;34m\u001b[0m\n\u001b[1;32m----> 1\u001b[1;33m \u001b[0mBankAccount\u001b[0m\u001b[1;33m.\u001b[0m\u001b[0mdeposit\u001b[0m\u001b[1;33m(\u001b[0m\u001b[0mbalance\u001b[0m\u001b[1;33m,\u001b[0m\u001b[1;36m1000\u001b[0m\u001b[1;33m)\u001b[0m\u001b[1;33m\u001b[0m\u001b[1;33m\u001b[0m\u001b[0m\n\u001b[0m\u001b[0;32m      2\u001b[0m \u001b[0mBankAccount\u001b[0m\u001b[1;33m.\u001b[0m\u001b[0mwithdrawl\u001b[0m\u001b[1;33m(\u001b[0m\u001b[1;36m400\u001b[0m\u001b[1;33m)\u001b[0m\u001b[1;33m\u001b[0m\u001b[1;33m\u001b[0m\u001b[0m\n\u001b[0;32m      3\u001b[0m \u001b[0mBankAccount\u001b[0m\u001b[1;33m.\u001b[0m\u001b[0m__str__\u001b[0m\u001b[1;33m(\u001b[0m\u001b[1;33m)\u001b[0m\u001b[1;33m\u001b[0m\u001b[1;33m\u001b[0m\u001b[0m\n",
      "\u001b[1;31mNameError\u001b[0m: name 'balance' is not defined"
     ]
    }
   ],
   "source": [
    "BankAccount.deposit(1000)\n",
    "BankAccount.withdrawl(400)\n",
    "BankAccount.__str__()"
   ]
  },
  {
   "cell_type": "markdown",
   "id": "c6601e10",
   "metadata": {},
   "source": [
    "Q2: Create a class Box that has attributes length and width that takes values for length\n",
    "and width upon construction (instantiation via the constructor).\n",
    "In addition, create…\n",
    "● A method called render() that prints out to the screen a box made with asterisks of\n",
    "length and width dimensions\n",
    "● A method called invert() that switches length and width with each other\n",
    "● Methods get_area() and get_perimeter() that return appropriate geometric calculations\n",
    "● A method called double() that doubles the size of the box. Hint: Pay attention to return\n",
    "value here.\n",
    "● Implement __eq__ so that two boxes can be compared using ==. Two boxes are equal if\n",
    "their respective lengths and widths are identical.\n",
    "● A method print_dim() that prints to screen the length and width details of the box\n",
    "● A method get_dim() that returns a tuple containing the length and width of the box\n",
    "● A method combine() that takes another box as an argument and increases the length\n",
    "and width by the dimensions of the box passed in\n",
    "● A method get_hypot() that finds the length of the diagonal that cuts through the middle\n",
    "● Instantiate 3 boxes of dimensions 5,10 , 3,4 and 5,10 and assign to variables box1,\n",
    "box2 and box3 respectively\n",
    "● Print dimension info for each using print_dim()\n",
    "● Evaluate if box1 == box2, and also evaluate if box1 == box3, print True or False to the\n",
    "screen accordingly\n",
    "● Combine box3 into box1 (i.e. box1.combine())\n",
    "● Double the size of box2\n",
    "● Combine box2 into box1"
   ]
  },
  {
   "cell_type": "code",
   "execution_count": null,
   "id": "cb54ed28",
   "metadata": {},
   "outputs": [],
   "source": [
    "class Box:\n",
    "    def __init__(self, length, width):\n",
    "        self.length = length\n",
    "        self.width = width\n",
    "    def render(self):\n",
    "        print(\"A box\")\n",
    "    def invert(self):\n",
    "        length = width\n",
    "        width = length\n",
    "    def get_area(self):\n",
    "        area = length * width\n",
    "        print(area)\n",
    "    def get_perimeter(self):\n",
    "        perimeter = 2 length + 2 width\n",
    "        print(perimeter)\n",
    "    def double(self):\n",
    "        length = 2*length\n",
    "        width = 2*width\n",
    "        area = length * width\n",
    "        return area\n",
    "    def __eq__(self):\n",
    "        if length == width:\n",
    "            return True\n",
    "        else:\n",
    "            return False\n",
    "    def print_dim(self):\n",
    "        print(lenght)\n",
    "        print(width)\n",
    "    def get_dim(self):\n",
    "        return (length, width)\n",
    "    def combine(self, length2, width2):\n",
    "        length = length + length2\n",
    "        width = width + width2\n",
    "        return (length, width)\n",
    "    def get_hypot(self):\n",
    "        return sqrt((length^2)+(width^2))"
   ]
  }
 ],
 "metadata": {
  "kernelspec": {
   "display_name": "Python 3 (ipykernel)",
   "language": "python",
   "name": "python3"
  },
  "language_info": {
   "codemirror_mode": {
    "name": "ipython",
    "version": 3
   },
   "file_extension": ".py",
   "mimetype": "text/x-python",
   "name": "python",
   "nbconvert_exporter": "python",
   "pygments_lexer": "ipython3",
   "version": "3.9.7"
  }
 },
 "nbformat": 4,
 "nbformat_minor": 5
}
